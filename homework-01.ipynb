{
 "cells": [
  {
   "cell_type": "markdown",
   "id": "f39c09cf-002e-4eca-9c3b-ffba6be75931",
   "metadata": {},
   "source": [
    "# Línea de Tiempo\n",
    "![](./media/Untitled-2023-09-20-0839.png) "
   ]
  },
  {
   "cell_type": "markdown",
   "id": "eafa615d-cc8a-469a-97fb-04bac01ffdc3",
   "metadata": {},
   "source": [
    "# Programas en Python\n",
    "### [Código fuente [GitHub]](https://github.com/friendlyPotat0/homework-01)"
   ]
  },
  {
   "cell_type": "code",
   "execution_count": 1,
   "id": "63658834-6dc6-4b3c-b07e-1f68c50c952f",
   "metadata": {},
   "outputs": [],
   "source": [
    "%load_ext jupyter_spaces"
   ]
  },
  {
   "cell_type": "markdown",
   "id": "ba32f03c-aa82-4e0e-a24b-cb7b169f6d66",
   "metadata": {},
   "source": [
    "### circle-calculator.py"
   ]
  },
  {
   "cell_type": "markdown",
   "id": "a49371af-153c-44c1-874e-170b269cd69e",
   "metadata": {},
   "source": [
    "**Entrada de datos por parte del usuario**"
   ]
  },
  {
   "cell_type": "code",
   "execution_count": 2,
   "id": "2906763c-dd29-4194-a3f9-ea27a505fa75",
   "metadata": {},
   "outputs": [
    {
     "name": "stdin",
     "output_type": "stream",
     "text": [
      "Enter circle radius:  4\n"
     ]
    }
   ],
   "source": [
    "%%space circle_calculator\n",
    "import math\n",
    "\n",
    "radius = float(input(\"Enter circle radius: \"))"
   ]
  },
  {
   "cell_type": "markdown",
   "id": "7b9ebd13-3b03-4e8f-82c8-adccf3239706",
   "metadata": {},
   "source": [
    "**Fórmulas**\n",
    "\n",
    "$$\n",
    "A=\\pi r^2\n",
    "$$\n",
    "\n",
    "$$\n",
    "P=2 \\pi r\n",
    "$$\n",
    "\n",
    "> $A=área$\n",
    "> \n",
    "> $P=perímetro$"
   ]
  },
  {
   "cell_type": "code",
   "execution_count": 3,
   "id": "4df7ce0f-7668-45c1-b57d-d3018be98c8f",
   "metadata": {},
   "outputs": [],
   "source": [
    "%%space circle_calculator\n",
    "area = math.pi * (radius)**2\n",
    "perimeter = 2 * math.pi * radius"
   ]
  },
  {
   "cell_type": "markdown",
   "id": "a563cc40-4edc-4fb7-a134-e82fb5f8821a",
   "metadata": {},
   "source": [
    "**Resultado**"
   ]
  },
  {
   "cell_type": "code",
   "execution_count": 4,
   "id": "dc194f38-d126-47fb-aad6-c13e36e9bfbe",
   "metadata": {},
   "outputs": [
    {
     "name": "stdout",
     "output_type": "stream",
     "text": [
      "Circle area: 50.265482\n",
      "Circle perimeter: 25.132741\n"
     ]
    }
   ],
   "source": [
    "%%space circle_calculator\n",
    "print(\"%s%f\" %(\"Circle area: \", area))\n",
    "print(\"%s%f\" %(\"Circle perimeter: \", perimeter))"
   ]
  },
  {
   "cell_type": "markdown",
   "id": "6fc4e415-24ef-4881-a882-62cd2b65cb9c",
   "metadata": {},
   "source": [
    "### right_angled-triangle-calculator.py\n",
    "El programa asume que los cálculos se realizan a partir de un triángulo rectángulo."
   ]
  },
  {
   "cell_type": "markdown",
   "id": "928e9357-9f64-4dec-a286-99bc88920cbf",
   "metadata": {},
   "source": [
    "**Entrada de datos por parte del usuario**"
   ]
  },
  {
   "cell_type": "code",
   "execution_count": 5,
   "id": "cf44fe1d-ca7c-44c6-892b-db075c411fc9",
   "metadata": {},
   "outputs": [
    {
     "name": "stdin",
     "output_type": "stream",
     "text": [
      "Enter triangle base:  4\n",
      "Enter triangle height:  5\n"
     ]
    }
   ],
   "source": [
    "%%space right_angled_triangle_calculator\n",
    "import math\n",
    "\n",
    "base = float(input(\"Enter triangle base: \"))\n",
    "height = float(input(\"Enter triangle height: \"))"
   ]
  },
  {
   "cell_type": "markdown",
   "id": "25f8b795-1226-4f3d-9455-d7cbaeaf86e1",
   "metadata": {},
   "source": [
    "**Fórmulas**\n",
    "\n",
    "$$\n",
    "A=\\frac{b \\cdot h}{2}\n",
    "$$\n",
    "\n",
    "> $A=área$\n",
    ">\n",
    "> $b=base$\n",
    ">\n",
    "> $h=altura$\n",
    "\n",
    "$$\n",
    "c=\\sqrt{b^2+h^2}\n",
    "$$\n",
    "\n",
    "> $c=hipotenusa$\n",
    "\n",
    "$$\n",
    "P=b+h+c\n",
    "$$\n",
    "\n",
    "> $P=perímetro$"
   ]
  },
  {
   "cell_type": "code",
   "execution_count": 6,
   "id": "deeae424-88e1-4814-8461-7cfc155405ab",
   "metadata": {},
   "outputs": [],
   "source": [
    "%%space right_angled_triangle_calculator\n",
    "area = (base * height) / 2\n",
    "hypotenuse = math.sqrt(base ** 2 + height ** 2)\n",
    "perimeter = base + height + hypotenuse"
   ]
  },
  {
   "cell_type": "markdown",
   "id": "0540cb80-66b5-4b44-95d6-36b6c1756443",
   "metadata": {},
   "source": [
    "**Resultado**"
   ]
  },
  {
   "cell_type": "code",
   "execution_count": 7,
   "id": "20055b9b-a541-4581-b048-959b0b57d3b6",
   "metadata": {},
   "outputs": [
    {
     "name": "stdout",
     "output_type": "stream",
     "text": [
      "Triangle area: 10.000000\n",
      "Triangle perimeter: 15.403124\n"
     ]
    }
   ],
   "source": [
    "%%space right_angled_triangle_calculator\n",
    "print(\"%s%f\" %(\"Triangle area: \", area))\n",
    "print(\"%s%f\" %(\"Triangle perimeter: \", perimeter))"
   ]
  },
  {
   "cell_type": "markdown",
   "id": "de643e1f-e289-4206-8f1f-d1291a457928",
   "metadata": {},
   "source": [
    "### guess-random-number.py\n",
    "\n",
    "**Algoritmo**\n",
    "* Genera un número aleatorio del 1 al 20.\n",
    "* Preguntar al usuario 5 veces cuál cree que es el valor del número generado.\n",
    "* Felicitarlo si acierta; de lo contrario, decir cuál era el valor del número generado."
   ]
  },
  {
   "cell_type": "code",
   "execution_count": 8,
   "id": "6379fcd3-03c5-43a9-b6d7-406cf0b59d94",
   "metadata": {},
   "outputs": [
    {
     "name": "stdout",
     "output_type": "stream",
     "text": [
      "A random number between 1 and 20 (inclusive) was generated. Can you guess the number in five attempts?\n"
     ]
    },
    {
     "name": "stdin",
     "output_type": "stream",
     "text": [
      "Enter value:  6\n"
     ]
    },
    {
     "name": "stdout",
     "output_type": "stream",
     "text": [
      "Well done! You guessed the number\n"
     ]
    }
   ],
   "source": [
    "%%space guess_random_number\n",
    "import random\n",
    "\n",
    "randomNumber = random.randint(1, 20)\n",
    "print(\"A random number between 1 and 20 (inclusive) was generated. Can you guess the number in five attempts?\")\n",
    "\n",
    "for i in range (0, 5):\n",
    "    guessedNumber = int(input(\"Enter value: \"))\n",
    "    if randomNumber == guessedNumber:\n",
    "        print(\"Well done! You guessed the number\")\n",
    "        break\n",
    "else:\n",
    "    print(\"%s%i\" %(\"Game over! The number was: \" , randomNumber))"
   ]
  },
  {
   "cell_type": "markdown",
   "id": "0fdda01d-fa07-4edd-a957-8d849cfb1f62",
   "metadata": {},
   "source": [
    "### spirograph.py"
   ]
  },
  {
   "cell_type": "code",
   "execution_count": 9,
   "id": "a12e1a48-0a16-4c44-af7f-893a338d6a95",
   "metadata": {},
   "outputs": [],
   "source": [
    "%%script false --no-raise-error\n",
    "import turtle\n",
    "\n",
    "def draw_star_polygon(carl, length, points, offset):\n",
    "    carl.color(\"#fba572\")\n",
    "    carl.penup()\n",
    "    carl.goto(- (length / 2), offset)\n",
    "    carl.pendown()\n",
    "\n",
    "    angle = 180 - (360 / points)\n",
    "    for _ in range(0, points):\n",
    "        carl.forward(length)\n",
    "        carl.left(angle)"
   ]
  },
  {
   "cell_type": "markdown",
   "id": "929d75b5-0876-4df1-82c4-c935889697d9",
   "metadata": {},
   "source": [
    "Dibuja una estrella de n puntas.\n",
    "\n",
    "**Parámetros**\n",
    "* carl: objeto turtle\n",
    "* length: longitud del polígono\n",
    "* points: número de puntas del polígono\n",
    "* offset: valor usado para centrar el polígono, origen en (0,0)"
   ]
  },
  {
   "cell_type": "code",
   "execution_count": 10,
   "id": "495d68bb-cae2-4b74-99be-f775e2df8f42",
   "metadata": {},
   "outputs": [],
   "source": [
    "%%script false --no-raise-error\n",
    "def draw_tree_pattern(carl, branch_length, angle, depth):\n",
    "    if depth == 0:\n",
    "        return\n",
    "    else:\n",
    "        carl.forward(branch_length)\n",
    "        carl.right(angle)\n",
    "        draw_tree_pattern(carl, branch_length * 0.7, angle, depth - 1)\n",
    "        carl.left(angle * 2)\n",
    "        draw_tree_pattern(carl, branch_length * 0.7, angle, depth - 1)\n",
    "        carl.right(angle)\n",
    "        carl.backward(branch_length)"
   ]
  },
  {
   "cell_type": "markdown",
   "id": "9226c38c-fce1-4b21-a372-f7c80f739b36",
   "metadata": {},
   "source": [
    "Dibuja un patrón de árbol.\n",
    "\n",
    "**Parámetros**\n",
    "* carl: objeto tortuga\n",
    "* branch_length: longitud de la rama padre\n",
    "* angle: ángulo de bifurcación\n",
    "* depth: número de ramales (mismo `angle` y dirección)\n",
    "\n",
    "**Algoritmo (no lineal)**\n",
    "* Mueve `carl` hacia adelante por \"branch_length\".\n",
    "* Gira `carl` a la derecha por `angle`.\n",
    "* Ya con la orientación correcta dibuja los ramales recursivamente, cuyo tamaño ira decrementando al multiplicar el valor de `branch_length` por 0.7.\n",
    "* Gira `carl` dos veces por el valor de `angle` a la izquierda para reflejar la posición del ramal dibujado.\n",
    "* Ya con la orientación correcta dibuja los ramales recursivamente, cuyo tamaño ira decrementando al multiplicar el valor de `branch_length` por 0.7.\n",
    "* Gira `carl` a la derecha por `angle` y mueve `carl` hacia atras por `branch_length` para restaurar la posición central del anterior nivel de recursión.\n",
    "\n",
    "> Estos procesos se entrelazan por medio de la variable `depth`. Si `depth` equivale 0 significa que `carl` terminó de dibujar todos los ramales cuyo `angle` y dirección son los mismos; cuando esto sucede, `carl` está en el último nivel de recursión, por lo que procede a dibujar el ramal izquierdo (relativo) para luego retornar a un anterior nivel de recursión y trazar aquellos caminos cuyo `angle` y dirección sean diferentes. De este modo se dibuja completamente el patrón de árbol."
   ]
  },
  {
   "cell_type": "code",
   "execution_count": 11,
   "id": "aa99f1ed-a4b0-489b-9b06-ee0a47817338",
   "metadata": {},
   "outputs": [],
   "source": [
    "%%script false --no-raise-error\n",
    "def draw_radial_tree_pattern(carl, branch_length, branches, angle, depth):\n",
    "    carl.color(\"#444250\")\n",
    "    carl.penup()\n",
    "    carl.goto(0, 0)\n",
    "    carl.pendown()\n",
    "\n",
    "    for _ in range(branches):\n",
    "        draw_tree_pattern(carl, branch_length, angle, depth)\n",
    "        carl.right(360 / branches)"
   ]
  },
  {
   "cell_type": "markdown",
   "id": "3ec17424-1f5c-471a-972c-2ee572c9725e",
   "metadata": {},
   "source": [
    "Dibuja un patrón radial de árbol.\n",
    "\n",
    "**Parámetros**\n",
    "* carl: objeto tortuga\n",
    "* branch_length: longitud de la rama padre\n",
    "* branches: número de árboles\n",
    "* angle: ángulo de bifurcación\n",
    "* depth: número de ramales (mismo `angle` y dirección)\n",
    "\n",
    "**Algortimo**\n",
    "1. Llama a `draw_tree_pattern` para dibujar los n árboles especificados por `branches`.\n",
    "2. Gira `carl` de modo que los subsiguientes árboles se distribuyan en torno a una circunferencia."
   ]
  },
  {
   "cell_type": "code",
   "execution_count": 12,
   "id": "601a025f-3eda-481e-82d7-d91b4885ed2b",
   "metadata": {},
   "outputs": [],
   "source": [
    "%%script false --no-raise-error\n",
    "def main():\n",
    "    carl = turtle.Turtle()\n",
    "    carl.getscreen().bgcolor(\"#f9e4e1\")\n",
    "    carl.hideturtle()\n",
    "    carl.width(2)\n",
    "    carl.speed(0)\n",
    "\n",
    "    draw_star_polygon(carl, 500, 36, -20)\n",
    "    draw_radial_tree_pattern(carl, 100, 12, 30, 5)\n",
    "\n",
    "    turtle.done()\n",
    "\n",
    "if __name__ == \"__main__\":\n",
    "    main()"
   ]
  },
  {
   "cell_type": "markdown",
   "id": "1893d4f1-3bbd-4264-bea3-b2b91ff95f33",
   "metadata": {},
   "source": [
    "Inicializa atributos y define el flujo del programa."
   ]
  },
  {
   "cell_type": "markdown",
   "id": "6b9c05c3-b097-4e56-8609-d4dbe36b09c3",
   "metadata": {},
   "source": [
    "![](./media/2023-09-20[22h58m42s].png)"
   ]
  }
 ],
 "metadata": {
  "kernelspec": {
   "display_name": "Python 3 (ipykernel)",
   "language": "python",
   "name": "python3"
  },
  "language_info": {
   "codemirror_mode": {
    "name": "ipython",
    "version": 3
   },
   "file_extension": ".py",
   "mimetype": "text/x-python",
   "name": "python",
   "nbconvert_exporter": "python",
   "pygments_lexer": "ipython3",
   "version": "3.11.5"
  }
 },
 "nbformat": 4,
 "nbformat_minor": 5
}
